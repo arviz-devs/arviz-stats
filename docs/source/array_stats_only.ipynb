{
 "cells": [
  {
   "cell_type": "markdown",
   "id": "2aded49a-be14-4e0e-95e1-12474dec548b",
   "metadata": {},
   "source": [
    "# Using `arviz_stats` array interface\n",
    "\n",
    "This tutorial will cover how to use the `arviz_stats` array interface for diagnosing and summarizing Bayesian modeling results stored as\n",
    "NumPy arrays. It is aimed at advanced users and developers of other libraries such as PPLs who want to incorporate sampling diagnosting into their library.\n",
    "\n",
    "## What is the \"array interface\"?\n",
    "\n",
    "The array interface is the base building block on top of which everything within `arviz_stats` is built, and is always available.\n",
    "When you install `arviz_stats` as `pip install arviz_stats` (instead of the recommended way shown in {ref}`installation`) you get\n",
    "a minimal package installed with NumPy and SciPy as the only dependencies and `array_stats` as the way to interface with the functions of the library.\n",
    "\n",
    "As there is no dependency on `arviz_base` defaults are either hardcoded or not set, making some arguments that are optional when using the\n",
    "top level functions or xarray interfaces required ones. In addition, as it is one of the building blocks of the DataArray interface\n",
    "which uses {func}`xarray.apply_ufunc` the default axis to be reduced are the last one(s). \n",
    "\n",
    ":::{seealso}\n",
    "For an in depth explanation of the modules in `arviz_stats` and its architecture, way beyond what is necessary for this tutorial,\n",
    "see {ref}`architecture`.\n",
    ":::\n",
    "\n",
    "## Importing the array interface\n",
    "The array interface is not a module but a Python class. It can be imported with:"
   ]
  },
  {
   "cell_type": "code",
   "execution_count": 1,
   "id": "fb898906-f68f-4c3a-9658-382f33539974",
   "metadata": {},
   "outputs": [],
   "source": [
    "from arviz_stats.base import array_stats\n",
    "\n",
    "# you can also give an alias to the array_stats class such as\n",
    "# from arviz_stats.base import array_stats\n",
    "# then use `az.ess` and so on"
   ]
  },
  {
   "cell_type": "markdown",
   "id": "bfa8ddb1-81a6-413d-9dff-0fcb19146f7e",
   "metadata": {},
   "source": [
    "## MCMC diagnostics"
   ]
  },
  {
   "cell_type": "code",
   "execution_count": 2,
   "id": "cc6e4d67-0b71-40e7-b4af-cc310d34e813",
   "metadata": {},
   "outputs": [],
   "source": [
    "# generate mock MCMC-like data\n",
    "import numpy as np\n",
    "\n",
    "rng = np.random.default_rng()\n",
    "samples = rng.normal(size=(4, 100, 7))"
   ]
  },
  {
   "cell_type": "code",
   "execution_count": 3,
   "id": "5cbce678-a445-4c8f-8c8b-5fb2c583b454",
   "metadata": {},
   "outputs": [
    {
     "data": {
      "text/plain": [
       "array([422.1586808 , 297.67239462, 425.30009072, 410.05177651,\n",
       "       497.50580305, 386.13336832, 345.82570489])"
      ]
     },
     "execution_count": 3,
     "metadata": {},
     "output_type": "execute_result"
    }
   ],
   "source": [
    "array_stats.ess(samples, chain_axis=0, draw_axis=1)"
   ]
  },
  {
   "cell_type": "code",
   "execution_count": 4,
   "id": "36814779-2583-4078-acb6-5ed48f0b7d21",
   "metadata": {},
   "outputs": [
    {
     "data": {
      "text/plain": [
       "array([[0.05471468, 0.08687348, 0.05872686, 0.0637564 , 0.05737134,\n",
       "        0.05914824, 0.06186166],\n",
       "       [0.08773414, 0.08646622, 0.08699686, 0.07983036, 0.05505435,\n",
       "        0.05804827, 0.08035736],\n",
       "       [0.05212054, 0.0739023 , 0.05803061, 0.0740494 , 0.07396383,\n",
       "        0.07140946, 0.09592179],\n",
       "       [0.08617467, 0.07463616, 0.06521591, 0.08282687, 0.07528297,\n",
       "        0.08650673, 0.07588306]])"
      ]
     },
     "execution_count": 4,
     "metadata": {},
     "output_type": "execute_result"
    }
   ],
   "source": [
    "array_stats.mcse(samples, chain_axis=None, draw_axis=1, method=\"sd\")"
   ]
  },
  {
   "cell_type": "code",
   "execution_count": 5,
   "id": "cc05ddc6-520b-46c4-945c-bc1920df0313",
   "metadata": {},
   "outputs": [
    {
     "data": {
      "text/plain": [
       "array([1.00524606, 1.01174873, 1.00054833, 1.00057437, 1.00226051,\n",
       "       1.00407049, 1.00565316])"
      ]
     },
     "execution_count": 5,
     "metadata": {},
     "output_type": "execute_result"
    }
   ],
   "source": [
    "axis = {\"chain_axis\": 0, \"draw_axis\": 1}\n",
    "array_stats.rhat_nested(samples, (0, 0, 1, 1), **axis)"
   ]
  },
  {
   "cell_type": "markdown",
   "id": "bc44d601-baf9-43e2-87a4-553cdde8e08d",
   "metadata": {},
   "source": [
    "## Statistical summaries"
   ]
  },
  {
   "cell_type": "code",
   "execution_count": 6,
   "id": "893e8a50-d800-4799-affc-9f07a69c759e",
   "metadata": {},
   "outputs": [
    {
     "data": {
      "text/plain": [
       "array([[-1.18454104,  1.32022495],\n",
       "       [-1.16964158,  1.31248152],\n",
       "       [-1.2190001 ,  1.27297027],\n",
       "       [-1.29803738,  1.14532151],\n",
       "       [-1.31260991,  1.13760075],\n",
       "       [-1.15039454,  1.44384752],\n",
       "       [-1.08215371,  1.38906639]])"
      ]
     },
     "execution_count": 6,
     "metadata": {},
     "output_type": "execute_result"
    }
   ],
   "source": [
    "array_stats.hdi(samples, 0.8, axis=(0, 1))"
   ]
  },
  {
   "cell_type": "markdown",
   "id": "fb520788-6430-4325-8d86-87abf7c015d4",
   "metadata": {},
   "source": [
    "## Model comparison"
   ]
  },
  {
   "cell_type": "code",
   "execution_count": 7,
   "id": "c7df6ebc-9ab6-4e5b-a981-753a0c9a5338",
   "metadata": {},
   "outputs": [
    {
     "name": "stdout",
     "output_type": "stream",
     "text": [
      "log_lik shape:     (4, 100, 7)\n",
      "log_weights shape: (7, 4, 100)\n",
      "khats shape:       (7,)\n"
     ]
    }
   ],
   "source": [
    "# generate mock pointwise log likelihood\n",
    "from scipy.stats import norm\n",
    "\n",
    "log_lik = norm.logpdf(samples, loc=0.2, scale=1.1)\n",
    "log_weights, khats = array_stats.psislw(-log_lik, axis=(0, 1))\n",
    "print(f\"log_lik shape:     {log_lik.shape}\")\n",
    "print(f\"log_weights shape: {log_weights.shape}\")\n",
    "print(f\"khats shape:       {khats.shape}\")\n",
    "# TODO: call loo function with log_weights and khats as inputs"
   ]
  },
  {
   "cell_type": "markdown",
   "id": "b8d942d4-f52b-43f8-a3db-31d643f19528",
   "metadata": {},
   "source": [
    "Note that the shape of `log_weights` is not exactly the same as the shape of `log_lik`. The dimensions on which the function acts are moved to the end.\n",
    "For functions that reduce these dimensions like `ess`, `rhat` or `hdi` which are the ones we have used so far this makes no difference, same for `khats`\n",
    "but for `log_weights` it does. The `axis` arguments do have defaults, but much like default `axis` for NumPy functions, you should never assume they'll work for your specific case."
   ]
  },
  {
   "cell_type": "code",
   "execution_count": null,
   "id": "8d90e0ad-ea2f-4c36-b35f-f880de6aa973",
   "metadata": {},
   "outputs": [],
   "source": []
  }
 ],
 "metadata": {
  "kernelspec": {
   "display_name": "Python 3 (ipykernel)",
   "language": "python",
   "name": "python3"
  },
  "language_info": {
   "codemirror_mode": {
    "name": "ipython",
    "version": 3
   },
   "file_extension": ".py",
   "mimetype": "text/x-python",
   "name": "python",
   "nbconvert_exporter": "python",
   "pygments_lexer": "ipython3",
   "version": "3.12.7"
  }
 },
 "nbformat": 4,
 "nbformat_minor": 5
}
