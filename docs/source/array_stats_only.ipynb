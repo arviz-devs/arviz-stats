{
 "cells": [
  {
   "cell_type": "markdown",
   "id": "2aded49a-be14-4e0e-95e1-12474dec548b",
   "metadata": {},
   "source": [
    "(array_interface)=\n",
    "# Using `arviz_stats` array interface\n",
    "\n",
    "This tutorial covers how to use the `arviz_stats` array interface for diagnosing and summarizing Bayesian modeling results stored as\n",
    "NumPy arrays. It is aimed at advanced users and developers of other libraries, for example developers of probabilistic programming languages who want to incorporate sampling diagnostics into their library.\n",
    "\n",
    "## What is the \"array interface\"?\n",
    "\n",
    "The array interface is the base building block on top of which everything within `arviz_stats` is built, and is always available.\n",
    "When you install `arviz_stats` as `pip install arviz_stats` (instead of the recommended way shown in {ref}`installation`) you get\n",
    "a minimal package installed with NumPy and SciPy as the only dependencies and `array_stats` as the way to interface with the functions of the library.\n",
    "\n",
    "As the array interface does not depend on `arviz_base` defaults are either hardcoded or not set, making some arguments that are optional when using the\n",
    "top level functions or xarray interfaces required ones. Others like the `axis` arguments do have defaults, but much like default `axis` for NumPy functions,\n",
    "you should never assume they'll work for your specific case. You'll notice in this tutorial we explicitly set the `axis` arguments for all function calls.\n",
    "\n",
    ":::{seealso}\n",
    "For an in depth explanation of the modules in `arviz_stats` and its architecture, way beyond what is necessary for this tutorial,\n",
    "see {ref}`architecture`.\n",
    ":::\n",
    "\n",
    "## Importing the array interface\n",
    "The array interface is not a module but a Python class. It can be imported with:"
   ]
  },
  {
   "cell_type": "code",
   "execution_count": 1,
   "id": "fb898906-f68f-4c3a-9658-382f33539974",
   "metadata": {},
   "outputs": [],
   "source": [
    "from arviz_stats.base import array_stats\n",
    "\n",
    "# you can also give an alias to the array_stats class such as\n",
    "# from arviz_stats.base import array_stats as az\n",
    "# then use `az.ess` and so on"
   ]
  },
  {
   "cell_type": "markdown",
   "id": "bfa8ddb1-81a6-413d-9dff-0fcb19146f7e",
   "metadata": {},
   "source": [
    "## MCMC diagnostics\n",
    "In MCMC there are two dimensions with special meaning: \"chain\" and \"draw\" so the array interface for such functions has two \"axis\" arguments, one to indicate which dimension represents the chain and another to indicate which represents the draw dimension."
   ]
  },
  {
   "cell_type": "code",
   "execution_count": 2,
   "id": "cc6e4d67-0b71-40e7-b4af-cc310d34e813",
   "metadata": {},
   "outputs": [],
   "source": [
    "# generate mock MCMC-like data\n",
    "import numpy as np\n",
    "\n",
    "rng = np.random.default_rng()\n",
    "samples = rng.normal(size=(4, 100, 7))"
   ]
  },
  {
   "cell_type": "code",
   "execution_count": 3,
   "id": "5cbce678-a445-4c8f-8c8b-5fb2c583b454",
   "metadata": {},
   "outputs": [
    {
     "data": {
      "text/plain": [
       "array([459.34245009, 401.08972477, 329.3874491 , 401.4836714 ,\n",
       "       506.45514111, 460.83796322, 426.69631509])"
      ]
     },
     "execution_count": 3,
     "metadata": {},
     "output_type": "execute_result"
    }
   ],
   "source": [
    "array_stats.ess(samples, chain_axis=0, draw_axis=1)"
   ]
  },
  {
   "cell_type": "code",
   "execution_count": 4,
   "id": "cc05ddc6-520b-46c4-945c-bc1920df0313",
   "metadata": {},
   "outputs": [
    {
     "data": {
      "text/plain": [
       "array([1.00178091, 1.00001307, 1.0187187 , 1.00321008, 1.00306606,\n",
       "       1.0018201 , 1.00551756])"
      ]
     },
     "execution_count": 4,
     "metadata": {},
     "output_type": "execute_result"
    }
   ],
   "source": [
    "axis = {\"chain_axis\": 0, \"draw_axis\": 1}\n",
    "array_stats.rhat_nested(samples, (0, 0, 1, 1), **axis)"
   ]
  },
  {
   "cell_type": "markdown",
   "id": "ead20017-7285-45d4-b24b-336bf13889ab",
   "metadata": {},
   "source": [
    "It is also possible to use `chain_axis=None` when there is no chain dimension. Some diagnostics like `ess` or `mcse` still work as shown in the example,\n",
    "whereas others like `rhat` make no sense when there aren't multiple chains so using `chain_axis=None` will always result in NaNs as output.\n",
    "Similarly, attempting to compute `ess` on an array with less than 4 draws would also output NaNs in the expected shape."
   ]
  },
  {
   "cell_type": "code",
   "execution_count": 5,
   "id": "36814779-2583-4078-acb6-5ed48f0b7d21",
   "metadata": {},
   "outputs": [
    {
     "data": {
      "text/plain": [
       "array([[0.07888795, 0.08384865, 0.07420566, 0.07939282, 0.05469291,\n",
       "        0.07176403, 0.05994337],\n",
       "       [0.04798386, 0.06194168, 0.09648721, 0.08752604, 0.08908106,\n",
       "        0.06760488, 0.05030621],\n",
       "       [0.0760319 , 0.06649435, 0.0543176 , 0.07703644, 0.06384178,\n",
       "        0.07591641, 0.08611206],\n",
       "       [0.09009632, 0.10274383, 0.05875394, 0.062174  , 0.06180665,\n",
       "        0.06932181, 0.07687072]])"
      ]
     },
     "execution_count": 5,
     "metadata": {},
     "output_type": "execute_result"
    }
   ],
   "source": [
    "array_stats.mcse(samples, chain_axis=None, draw_axis=1, method=\"sd\")"
   ]
  },
  {
   "cell_type": "code",
   "execution_count": 6,
   "id": "c01197be-125b-4ad1-8ab9-5369a312d342",
   "metadata": {},
   "outputs": [
    {
     "data": {
      "text/plain": [
       "array([[nan, nan, nan, nan, nan, nan, nan],\n",
       "       [nan, nan, nan, nan, nan, nan, nan],\n",
       "       [nan, nan, nan, nan, nan, nan, nan],\n",
       "       [nan, nan, nan, nan, nan, nan, nan]])"
      ]
     },
     "execution_count": 6,
     "metadata": {},
     "output_type": "execute_result"
    }
   ],
   "source": [
    "array_stats.rhat(samples, chain_axis=None, draw_axis=1)"
   ]
  },
  {
   "cell_type": "markdown",
   "id": "bc44d601-baf9-43e2-87a4-553cdde8e08d",
   "metadata": {},
   "source": [
    "## Statistical summaries\n",
    "When computing statistical summaries we might one to reduce one or multiple dimensions, so all functions in the array interface have an `axis` argument that\n",
    "takes an integer, a sequence of integers or `None` (which indicates all dimensions should be reduced). If some deviate from this behaviour, the docstring should indicate it and\n",
    "an informative error message be printed out as is the case for `autocorr`"
   ]
  },
  {
   "cell_type": "code",
   "execution_count": 7,
   "id": "893e8a50-d800-4799-affc-9f07a69c759e",
   "metadata": {},
   "outputs": [
    {
     "data": {
      "text/plain": [
       "array([[-1.36275886,  1.08142061],\n",
       "       [-1.32559377,  1.09291349],\n",
       "       [-1.13343236,  1.30187928],\n",
       "       [-1.17227971,  1.44383128],\n",
       "       [-1.44747829,  1.27070483],\n",
       "       [-1.29181151,  1.42380106],\n",
       "       [-1.56946813,  1.25501178]])"
      ]
     },
     "execution_count": 7,
     "metadata": {},
     "output_type": "execute_result"
    }
   ],
   "source": [
    "array_stats.hdi(samples, 0.8, axis=(0, 1))"
   ]
  },
  {
   "cell_type": "code",
   "execution_count": 8,
   "id": "206f70d2-d953-4d9b-bd62-c608e242816e",
   "metadata": {},
   "outputs": [
    {
     "data": {
      "text/plain": [
       "(array([[-3.00429826, -2.99271058, -2.9811229 , ...,  2.893829  ,\n",
       "          2.90541668,  2.91700435],\n",
       "        [-3.18961408, -3.17801739, -3.16642071, ...,  2.71309886,\n",
       "          2.72469555,  2.73629223],\n",
       "        [-2.77803127, -2.7674738 , -2.75691633, ...,  2.59572217,\n",
       "          2.60627965,  2.61683712],\n",
       "        ...,\n",
       "        [-3.83563002, -3.82229155, -3.80895308, ...,  2.95365043,\n",
       "          2.9669889 ,  2.98032737],\n",
       "        [-3.08031093, -3.06870726, -3.05710359, ...,  2.82595522,\n",
       "          2.83755888,  2.84916255],\n",
       "        [-3.04816753, -3.03578764, -3.02340775, ...,  3.25319563,\n",
       "          3.26557552,  3.27795541]], shape=(7, 512)),\n",
       " array([[0.02231199, 0.0223113 , 0.02230996, ..., 0.01410705, 0.01409952,\n",
       "         0.01409533],\n",
       "        [0.01899806, 0.01899454, 0.01898732, ..., 0.03057282, 0.03056991,\n",
       "         0.03056879],\n",
       "        [0.03233875, 0.03235778, 0.03239163, ..., 0.0322979 , 0.03225837,\n",
       "         0.03223739],\n",
       "        ...,\n",
       "        [0.0059255 , 0.00591692, 0.00589968, ..., 0.01850032, 0.01846922,\n",
       "         0.01845192],\n",
       "        [0.02327452, 0.02328063, 0.02329106, ..., 0.02246641, 0.02244466,\n",
       "         0.02243197],\n",
       "        [0.02081782, 0.02084132, 0.02088549, ..., 0.01186477, 0.01187269,\n",
       "         0.01187576]], shape=(7, 512)),\n",
       " array([0.26214729, 0.30198939, 0.3063812 , 0.32063124, 0.33786006,\n",
       "        0.33326872, 0.35510539]))"
      ]
     },
     "execution_count": 8,
     "metadata": {},
     "output_type": "execute_result"
    }
   ],
   "source": [
    "array_stats.kde(samples, axis=(0, 1))"
   ]
  },
  {
   "cell_type": "code",
   "execution_count": 9,
   "id": "195f7bab-7501-4f03-a956-15cb9f263dbd",
   "metadata": {},
   "outputs": [
    {
     "name": "stderr",
     "output_type": "stream",
     "text": [
      "Traceback (most recent call last):\n",
      "  File \"/tmp/ipykernel_31735/2391265193.py\", line 4, in <module>\n",
      "    array_stats.autocorr(samples, axis=(0, 1))\n",
      "  File \"/home/oriol/Documents/repos_oss/arviz-stats/src/arviz_stats/base/core.py\", line 68, in autocorr\n",
      "    raise ValueError(\"Only integer values are allowed for `axis` in autocorr.\")\n",
      "ValueError: Only integer values are allowed for `axis` in autocorr.\n"
     ]
    }
   ],
   "source": [
    "import traceback\n",
    "\n",
    "try:\n",
    "    array_stats.autocorr(samples, axis=(0, 1))\n",
    "except ValueError as err:\n",
    "    traceback.print_exception(err)"
   ]
  },
  {
   "cell_type": "markdown",
   "id": "fb520788-6430-4325-8d86-87abf7c015d4",
   "metadata": {},
   "source": [
    "## Model comparison"
   ]
  },
  {
   "cell_type": "code",
   "execution_count": 10,
   "id": "c7df6ebc-9ab6-4e5b-a981-753a0c9a5338",
   "metadata": {},
   "outputs": [
    {
     "name": "stdout",
     "output_type": "stream",
     "text": [
      "log_lik shape:     (4, 100, 7)\n",
      "log_weights shape: (7, 4, 100)\n",
      "khats shape:       (7,)\n"
     ]
    }
   ],
   "source": [
    "# generate mock pointwise log likelihood\n",
    "from scipy.stats import norm\n",
    "\n",
    "log_lik = norm.logpdf(samples, loc=0.2, scale=1.1)\n",
    "log_weights, khats = array_stats.psislw(-log_lik, axis=(0, 1))\n",
    "print(f\"log_lik shape:     {log_lik.shape}\")\n",
    "print(f\"log_weights shape: {log_weights.shape}\")\n",
    "print(f\"khats shape:       {khats.shape}\")\n",
    "# TODO: call loo function with log_weights and khats as inputs"
   ]
  },
  {
   "cell_type": "markdown",
   "id": "b8d942d4-f52b-43f8-a3db-31d643f19528",
   "metadata": {},
   "source": [
    "Note that the shape of `log_weights` is not exactly the same as the shape of `log_lik`. The dimensions on which the function acts are moved to the end.\n",
    "For functions that reduce these dimensions, like the ones we have used so far or the `khats` output, this makes no difference;\n",
    "but for `log_weights` it does. This is due to the fact that the array interface is one of the building blocks of the DataArray interface,\n",
    "which uses {func}`xarray.apply_ufunc`. `apply_ufunc` requires the dimensions the function works on and any dimension added to be the last ones."
   ]
  },
  {
   "cell_type": "code",
   "execution_count": null,
   "id": "a2254cb5-c7a5-40fe-a485-61481ae54257",
   "metadata": {},
   "outputs": [],
   "source": []
  }
 ],
 "metadata": {
  "kernelspec": {
   "display_name": "Python 3 (ipykernel)",
   "language": "python",
   "name": "python3"
  },
  "language_info": {
   "codemirror_mode": {
    "name": "ipython",
    "version": 3
   },
   "file_extension": ".py",
   "mimetype": "text/x-python",
   "name": "python",
   "nbconvert_exporter": "python",
   "pygments_lexer": "ipython3",
   "version": "3.12.5"
  }
 },
 "nbformat": 4,
 "nbformat_minor": 5
}
